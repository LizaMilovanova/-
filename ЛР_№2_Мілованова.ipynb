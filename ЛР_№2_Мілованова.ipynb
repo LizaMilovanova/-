{
  "nbformat": 4,
  "nbformat_minor": 0,
  "metadata": {
    "colab": {
      "provenance": [],
      "authorship_tag": "ABX9TyOoHOkejmuTuKQ32ZTaF6Aj",
      "include_colab_link": true
    },
    "kernelspec": {
      "name": "python3",
      "display_name": "Python 3"
    },
    "language_info": {
      "name": "python"
    }
  },
  "cells": [
    {
      "cell_type": "markdown",
      "metadata": {
        "id": "view-in-github",
        "colab_type": "text"
      },
      "source": [
        "<a href=\"https://colab.research.google.com/github/LizaMilovanova/CM/blob/main/%D0%9B%D0%A0_%E2%84%962_%D0%9C%D1%96%D0%BB%D0%BE%D0%B2%D0%B0%D0%BD%D0%BE%D0%B2%D0%B0.ipynb\" target=\"_parent\"><img src=\"https://colab.research.google.com/assets/colab-badge.svg\" alt=\"Open In Colab\"/></a>"
      ]
    },
    {
      "cell_type": "code",
      "source": [
        "import numpy as np\n",
        "\n",
        "def f(x):\n",
        "    return 3*x**4 - 10*x**3 + x**2 - 5*x - 3\n",
        "\n",
        "def bisection_method(a, b, tol=1e-4):\n",
        "    if f(a) * f(b) >= 0:\n",
        "        return None\n",
        "    while (b - a) / 2.0 > tol:\n",
        "        midpoint = (a + b) / 2.0\n",
        "        if f(midpoint) == 0:\n",
        "            return midpoint\n",
        "        elif f(a) * f(midpoint) < 0:\n",
        "            b = midpoint\n",
        "        else:\n",
        "            a = midpoint\n",
        "    return (a + b) / 2.0\n",
        "\n",
        "def secant_method(x0, x1, tol=1e-4, max_iter=100):\n",
        "    for _ in range(max_iter):\n",
        "        if abs(f(x1)) < tol:\n",
        "            return x1\n",
        "        x2 = x1 - f(x1) * (x1 - x0) / (f(x1) - f(x0))\n",
        "        x0, x1 = x1, x2\n",
        "    if abs(f(x1)) < tol:\n",
        "        return x1\n",
        "    return None\n",
        "\n",
        "x_values = [-2, -1, 0, 1, 2]\n",
        "y_values = [f(x) for x in x_values]\n",
        "\n",
        "for i in range(len(x_values)-1):\n",
        "    if y_values[i] * y_values[i+1] < 0:\n",
        "        print(f\"Корінь знаходиться в інтервалі [{x_values[i]}, {x_values[i+1]}]\")\n",
        "\n",
        "intervals = [(-2, -1), (0, 1), (1, 2)]\n",
        "\n",
        "roots_bisection = [bisection_method(a, b) for a, b in intervals]\n",
        "\n",
        "roots_secant = [secant_method(a, b) for a, b in intervals]\n",
        "\n",
        "for i, interval in enumerate(intervals):\n",
        "    bisect_root = roots_bisection[i]\n",
        "    secant_root = roots_secant[i]\n",
        "    if bisect_root is not None:\n",
        "        print(f\"Корінь (половинне ділення) на інтервалі {interval}: {bisect_root:.4f}\")\n",
        "    else:\n",
        "        print(f\"Корінь (половинне ділення) на інтервалі {interval}: не знайдено\")\n",
        "\n",
        "    if secant_root is not None:\n",
        "        print(f\"Корінь (метод хорд) на інтервалі {interval}: {secant_root:.4f}\")\n",
        "    else:\n",
        "        print(f\"Корінь (метод хорд) на інтервалі {interval}: не знайдено\")\n"
      ],
      "metadata": {
        "colab": {
          "base_uri": "https://localhost:8080/"
        },
        "id": "t7JFwWkQqTx6",
        "outputId": "ed478969-2b70-4ed8-8386-f56c46e08f1f"
      },
      "execution_count": 3,
      "outputs": [
        {
          "output_type": "stream",
          "name": "stdout",
          "text": [
            "Корінь знаходиться в інтервалі [-1, 0]\n",
            "Корінь (половинне ділення) на інтервалі (-2, -1): не знайдено\n",
            "Корінь (метод хорд) на інтервалі (-2, -1): -0.4107\n",
            "Корінь (половинне ділення) на інтервалі (0, 1): не знайдено\n",
            "Корінь (метод хорд) на інтервалі (0, 1): -0.4107\n",
            "Корінь (половинне ділення) на інтервалі (1, 2): не знайдено\n",
            "Корінь (метод хорд) на інтервалі (1, 2): -0.4107\n"
          ]
        }
      ]
    }
  ]
}